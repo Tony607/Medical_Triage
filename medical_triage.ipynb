{
 "cells": [
  {
   "cell_type": "code",
   "execution_count": 1,
   "metadata": {},
   "outputs": [
    {
     "name": "stderr",
     "output_type": "stream",
     "text": [
      "Using TensorFlow backend.\n"
     ]
    }
   ],
   "source": [
    "from os import listdir\n",
    "from os.path import isfile, join\n",
    "import pickle\n",
    "import re\n",
    "import random\n",
    "import numpy as np\n",
    "from keras.models import Sequential\n",
    "from keras.layers.embeddings import Embedding\n",
    "from keras.layers.recurrent import GRU\n",
    "from keras.preprocessing.text import Tokenizer\n",
    "from keras.layers.core import Dense\n",
    "from keras.utils import to_categorical\n",
    "from keras.preprocessing.sequence import pad_sequences\n",
    "from keras.callbacks import TensorBoard\n",
    "\n",
    "from nltk.corpus import stopwords\n",
    "from nltk.tokenize import word_tokenize\n",
    "from keras.callbacks import TensorBoard"
   ]
  },
  {
   "cell_type": "markdown",
   "metadata": {},
   "source": [
    "#### Helper function to pickle and load stuff"
   ]
  },
  {
   "cell_type": "code",
   "execution_count": 2,
   "metadata": {
    "collapsed": true
   },
   "outputs": [],
   "source": [
    "def __pickleStuff(filename, stuff):\n",
    "    save_stuff = open(filename, \"wb\")\n",
    "    pickle.dump(stuff, save_stuff)\n",
    "    save_stuff.close()\n",
    "def __loadStuff(filename):\n",
    "    saved_stuff = open(filename,\"rb\")\n",
    "    stuff = pickle.load(saved_stuff)\n",
    "    saved_stuff.close()\n",
    "    return stuff"
   ]
  },
  {
   "cell_type": "markdown",
   "metadata": {},
   "source": [
    "# Load the data\n",
    "**phrases_embed.csv** came from [Babylon blog \"How the chatbot understands sentences\"](https://blog.babylonhealth.com/how-the-chatbot-understands-sentences-fe6c5deb6e81).\n",
    "\n",
    "Checkout the data visualization [here](http://s3-eu-west-1.amazonaws.com/nils-demo/phrases.html)."
   ]
  },
  {
   "cell_type": "code",
   "execution_count": 3,
   "metadata": {},
   "outputs": [
    {
     "data": {
      "text/html": [
       "<div>\n",
       "<table border=\"1\" class=\"dataframe\">\n",
       "  <thead>\n",
       "    <tr style=\"text-align: right;\">\n",
       "      <th></th>\n",
       "      <th>Disease</th>\n",
       "      <th>class</th>\n",
       "    </tr>\n",
       "  </thead>\n",
       "  <tbody>\n",
       "    <tr>\n",
       "      <th>0</th>\n",
       "      <td>stomach ache</td>\n",
       "      <td>abdomen</td>\n",
       "    </tr>\n",
       "    <tr>\n",
       "      <th>1</th>\n",
       "      <td>I am having stomach pains with diahorrea and t...</td>\n",
       "      <td>abdomen</td>\n",
       "    </tr>\n",
       "    <tr>\n",
       "      <th>2</th>\n",
       "      <td>stomach pain</td>\n",
       "      <td>abdomen</td>\n",
       "    </tr>\n",
       "  </tbody>\n",
       "</table>\n",
       "</div>"
      ],
      "text/plain": [
       "                                             Disease    class\n",
       "0                                       stomach ache  abdomen\n",
       "1  I am having stomach pains with diahorrea and t...  abdomen\n",
       "2                                       stomach pain  abdomen"
      ]
     },
     "execution_count": 3,
     "metadata": {},
     "output_type": "execute_result"
    }
   ],
   "source": [
    "import pandas as pd\n",
    "df=pd.read_csv(\"./data/phrases_embed.csv\")\n",
    "df = df[[\"Disease\", \"class\"]]\n",
    "df.head(3)"
   ]
  },
  {
   "cell_type": "markdown",
   "metadata": {},
   "source": [
    "### Get those two columns to numpy arrays pairs\n",
    "\"Disease\" columns ==> documents\n",
    "\n",
    "\"class\" columns ==> body_positions"
   ]
  },
  {
   "cell_type": "code",
   "execution_count": 4,
   "metadata": {},
   "outputs": [
    {
     "name": "stdout",
     "output_type": "stream",
     "text": [
      "documents.shape: (1261,)\n",
      "body_positions.shape: (1261,)\n"
     ]
    }
   ],
   "source": [
    "documents=df.as_matrix(columns=df.columns[0:1])\n",
    "documents = documents.reshape(documents.shape[0])\n",
    "print(\"documents.shape: {}\".format(documents.shape))\n",
    "body_positions=df.as_matrix(columns=df.columns[1:])\n",
    "body_positions = body_positions.reshape(body_positions.shape[0])\n",
    "print(\"body_positions.shape: {}\".format(body_positions.shape))"
   ]
  },
  {
   "cell_type": "markdown",
   "metadata": {},
   "source": [
    "## Clean up the data\n",
    "Function to clean up data"
   ]
  },
  {
   "cell_type": "code",
   "execution_count": 5,
   "metadata": {},
   "outputs": [],
   "source": [
    "strip_special_chars = re.compile(\"[^A-Za-z0-9 ]+\")\n",
    "def cleanUpSentence(r, stop_words = None):\n",
    "    r = r.lower().replace(\"<br />\", \" \")\n",
    "    r = re.sub(strip_special_chars, \"\", r.lower())\n",
    "    if stop_words is not None:\n",
    "        words = word_tokenize(r)\n",
    "        filtered_sentence = []\n",
    "        for w in words:\n",
    "            if w not in stop_words:\n",
    "                filtered_sentence.append(w)\n",
    "        return \" \".join(filtered_sentence)\n",
    "    else:\n",
    "        return r"
   ]
  },
  {
   "cell_type": "markdown",
   "metadata": {},
   "source": [
    "### Here we are cleaning up the data"
   ]
  },
  {
   "cell_type": "code",
   "execution_count": 6,
   "metadata": {
    "collapsed": true
   },
   "outputs": [],
   "source": [
    "totalX = []\n",
    "totalY = []\n",
    "stop_words = set(stopwords.words(\"english\"))\n",
    "for i, doc in enumerate(documents):\n",
    "    totalX.append(cleanUpSentence(doc, stop_words))\n",
    "    body_positions[i] = re.sub(strip_special_chars, \"\", body_positions[i].lower())\n",
    "    totalY.append(body_positions[i])"
   ]
  },
  {
   "cell_type": "markdown",
   "metadata": {},
   "source": [
    "#### Show input max sequence length\n",
    "If the max input sequence length is too long, we can put a limit to it in order to reduce the training time."
   ]
  },
  {
   "cell_type": "code",
   "execution_count": 7,
   "metadata": {},
   "outputs": [
    {
     "name": "stdout",
     "output_type": "stream",
     "text": [
      "max input length is:  18\n"
     ]
    }
   ],
   "source": [
    "xLengths = [len(word_tokenize(x)) for x in totalX]\n",
    "h = sorted(xLengths)  #sorted lengths\n",
    "maxLength =h[len(h)-1]\n",
    "print(\"max input length is: \",maxLength)"
   ]
  },
  {
   "cell_type": "markdown",
   "metadata": {},
   "source": [
    "## Convert input words to ids\n",
    "**max_vocab_size**: the maximum number of words to keep, we choose 30000 since it is big enough to keep all words in this case.\n",
    "\n",
    "Pad each input sequence to max input length **maxLength** if it is shorter."
   ]
  },
  {
   "cell_type": "code",
   "execution_count": 8,
   "metadata": {},
   "outputs": [
    {
     "name": "stdout",
     "output_type": "stream",
     "text": [
      "input_vocab_size: 910\n"
     ]
    }
   ],
   "source": [
    "max_vocab_size = 30000\n",
    "input_tokenizer = Tokenizer(max_vocab_size)\n",
    "input_tokenizer.fit_on_texts(totalX)\n",
    "input_vocab_size = len(input_tokenizer.word_index) + 1\n",
    "print(\"input_vocab_size:\",input_vocab_size)\n",
    "totalX = np.array(pad_sequences(input_tokenizer.texts_to_sequences(totalX), maxlen=maxLength))"
   ]
  },
  {
   "cell_type": "markdown",
   "metadata": {},
   "source": [
    "Take a look at one sequence in **totalX**, sequence has length 18, each number here represent a unique word. \"0\" is padding."
   ]
  },
  {
   "cell_type": "code",
   "execution_count": 9,
   "metadata": {},
   "outputs": [
    {
     "data": {
      "text/plain": [
       "array([  0,   0,   0,   0,   0,   0,   0,   0,   0,   0,   0,   0,   0,\n",
       "        41,  40, 465, 206,  29])"
      ]
     },
     "execution_count": 9,
     "metadata": {},
     "output_type": "execute_result"
    }
   ],
   "source": [
    "totalX[1]"
   ]
  },
  {
   "cell_type": "markdown",
   "metadata": {},
   "source": [
    "### Save the input tokenizer\n",
    "Since we need to use the same tokenizer for predition."
   ]
  },
  {
   "cell_type": "code",
   "execution_count": 10,
   "metadata": {
    "collapsed": true
   },
   "outputs": [],
   "source": [
    "__pickleStuff(\"./data/input_tokenizer.p\",input_tokenizer)"
   ]
  },
  {
   "cell_type": "markdown",
   "metadata": {},
   "source": [
    "## Convert output words to ids"
   ]
  },
  {
   "cell_type": "code",
   "execution_count": 11,
   "metadata": {},
   "outputs": [
    {
     "data": {
      "text/plain": [
       "['abdomen', 'abdomen', 'abdomen']"
      ]
     },
     "execution_count": 11,
     "metadata": {},
     "output_type": "execute_result"
    }
   ],
   "source": [
    "totalY[0:3]"
   ]
  },
  {
   "cell_type": "code",
   "execution_count": 13,
   "metadata": {},
   "outputs": [],
   "source": [
    "target_tokenizer = Tokenizer(30)\n",
    "target_tokenizer.fit_on_texts(totalY)\n",
    "target_vocab_size = len(target_tokenizer.word_index) + 1\n",
    "totalY = np.array(target_tokenizer.texts_to_sequences(totalY)) -1\n",
    "totalY = totalY.reshape(totalY.shape[0])"
   ]
  },
  {
   "cell_type": "code",
   "execution_count": 14,
   "metadata": {},
   "outputs": [
    {
     "name": "stdout",
     "output_type": "stream",
     "text": [
      "target_vocab_size: 19\n"
     ]
    }
   ],
   "source": [
    "print(\"target_vocab_size:\",target_vocab_size)"
   ]
  },
  {
   "cell_type": "code",
   "execution_count": 15,
   "metadata": {},
   "outputs": [
    {
     "data": {
      "text/plain": [
       "array([1, 1, 1])"
      ]
     },
     "execution_count": 15,
     "metadata": {},
     "output_type": "execute_result"
    }
   ],
   "source": [
    "totalY[0:3]"
   ]
  },
  {
   "cell_type": "markdown",
   "metadata": {},
   "source": [
    "## Turn output to categories(one-hot vectors)"
   ]
  },
  {
   "cell_type": "code",
   "execution_count": 16,
   "metadata": {
    "collapsed": true
   },
   "outputs": [],
   "source": [
    "totalY = to_categorical(totalY, num_classes=target_vocab_size) # turn output to one-hot vecotrs"
   ]
  },
  {
   "cell_type": "code",
   "execution_count": 17,
   "metadata": {},
   "outputs": [
    {
     "data": {
      "text/plain": [
       "array([[ 0.,  1.,  0.,  0.,  0.,  0.,  0.,  0.,  0.,  0.,  0.,  0.,  0.,\n",
       "         0.,  0.,  0.,  0.,  0.,  0.],\n",
       "       [ 0.,  1.,  0.,  0.,  0.,  0.,  0.,  0.,  0.,  0.,  0.,  0.,  0.,\n",
       "         0.,  0.,  0.,  0.,  0.,  0.],\n",
       "       [ 0.,  1.,  0.,  0.,  0.,  0.,  0.,  0.,  0.,  0.,  0.,  0.,  0.,\n",
       "         0.,  0.,  0.,  0.,  0.,  0.]])"
      ]
     },
     "execution_count": 17,
     "metadata": {},
     "output_type": "execute_result"
    }
   ],
   "source": [
    "totalY[0:3]"
   ]
  },
  {
   "cell_type": "code",
   "execution_count": 18,
   "metadata": {},
   "outputs": [],
   "source": [
    "vocab_size = input_vocab_size # vocab_size for model word embeding input\n",
    "output_dimen = totalY.shape[1] # number of unique output classes"
   ]
  },
  {
   "cell_type": "markdown",
   "metadata": {},
   "source": [
    "**target_reverse_word_index** to turn class ids to text"
   ]
  },
  {
   "cell_type": "code",
   "execution_count": 19,
   "metadata": {},
   "outputs": [
    {
     "data": {
      "text/plain": [
       "'abdomen'"
      ]
     },
     "execution_count": 19,
     "metadata": {},
     "output_type": "execute_result"
    }
   ],
   "source": [
    "target_reverse_word_index = {v: k for k, v in list(target_tokenizer.word_index.items())}\n",
    "target_reverse_word_index[2]"
   ]
  },
  {
   "cell_type": "markdown",
   "metadata": {},
   "source": [
    "## Save meta data for later predition\n",
    "maxLength: the input sequence length\n",
    "\n",
    "vocab_size: Input vocab size\n",
    "\n",
    "output_dimen: number of unique output classes\n",
    "\n",
    "target_reverse_word_index: turn predicted class ids to text"
   ]
  },
  {
   "cell_type": "code",
   "execution_count": 20,
   "metadata": {
    "collapsed": true
   },
   "outputs": [],
   "source": [
    "metaData = {\"maxLength\":maxLength,\"vocab_size\":vocab_size,\"output_dimen\":output_dimen,\"target_reverse_word_index\":target_reverse_word_index}\n",
    "__pickleStuff(\"./data/metaData_triage.p\", metaData)"
   ]
  },
  {
   "cell_type": "markdown",
   "metadata": {},
   "source": [
    "## Build the Model, train and save it\n",
    "The training data is logged to Tensorboard, we can look at it by cd into directory \n",
    "\n",
    "\"./Graph/medical_triage\" and run\n",
    "\n",
    "\n",
    "\"python -m tensorflow.tensorboard --logdir=.\""
   ]
  },
  {
   "cell_type": "code",
   "execution_count": 21,
   "metadata": {},
   "outputs": [
    {
     "name": "stdout",
     "output_type": "stream",
     "text": [
      "_________________________________________________________________\n",
      "Layer (type)                 Output Shape              Param #   \n",
      "=================================================================\n",
      "embedding_1 (Embedding)      (None, 18, 256)           232960    \n",
      "_________________________________________________________________\n",
      "gru_1 (GRU)                  (None, 18, 256)           393984    \n",
      "_________________________________________________________________\n",
      "gru_2 (GRU)                  (None, 256)               393984    \n",
      "_________________________________________________________________\n",
      "dense_1 (Dense)              (None, 19)                4883      \n",
      "=================================================================\n",
      "Total params: 1,025,811\n",
      "Trainable params: 1,025,811\n",
      "Non-trainable params: 0\n",
      "_________________________________________________________________\n",
      "Train on 1134 samples, validate on 127 samples\n",
      "Epoch 1/40\n",
      "1134/1134 [==============================] - 1s - loss: 2.8427 - acc: 0.1279 - val_loss: 2.9653 - val_acc: 0.0551\n",
      "Epoch 2/40\n",
      "1134/1134 [==============================] - 1s - loss: 2.7216 - acc: 0.1526 - val_loss: 3.0028 - val_acc: 0.0551\n",
      "Epoch 3/40\n",
      "1134/1134 [==============================] - 1s - loss: 2.6721 - acc: 0.1464 - val_loss: 2.9822 - val_acc: 0.0630\n",
      "Epoch 4/40\n",
      "1134/1134 [==============================] - 1s - loss: 2.6303 - acc: 0.1711 - val_loss: 2.9668 - val_acc: 0.0551\n",
      "Epoch 5/40\n",
      "1134/1134 [==============================] - 1s - loss: 2.5635 - acc: 0.1993 - val_loss: 2.9473 - val_acc: 0.0236\n",
      "Epoch 6/40\n",
      "1134/1134 [==============================] - 1s - loss: 2.4319 - acc: 0.2593 - val_loss: 2.8090 - val_acc: 0.1260\n",
      "Epoch 7/40\n",
      "1134/1134 [==============================] - 1s - loss: 2.1931 - acc: 0.3422 - val_loss: 2.5964 - val_acc: 0.2047\n",
      "Epoch 8/40\n",
      "1134/1134 [==============================] - 1s - loss: 1.9304 - acc: 0.4162 - val_loss: 2.4267 - val_acc: 0.2126\n",
      "Epoch 9/40\n",
      "1134/1134 [==============================] - 1s - loss: 1.6888 - acc: 0.4868 - val_loss: 2.1534 - val_acc: 0.3465\n",
      "Epoch 10/40\n",
      "1134/1134 [==============================] - 1s - loss: 1.4459 - acc: 0.5485 - val_loss: 1.9474 - val_acc: 0.4803\n",
      "Epoch 11/40\n",
      "1134/1134 [==============================] - 1s - loss: 1.3015 - acc: 0.5899 - val_loss: 1.7588 - val_acc: 0.5276\n",
      "Epoch 12/40\n",
      "1134/1134 [==============================] - 1s - loss: 1.2453 - acc: 0.6208 - val_loss: 1.5504 - val_acc: 0.5669\n",
      "Epoch 13/40\n",
      "1134/1134 [==============================] - 1s - loss: 1.1316 - acc: 0.6631 - val_loss: 1.4166 - val_acc: 0.5669\n",
      "Epoch 14/40\n",
      "1134/1134 [==============================] - 1s - loss: 1.0085 - acc: 0.6702 - val_loss: 1.4427 - val_acc: 0.6142\n",
      "Epoch 15/40\n",
      "1134/1134 [==============================] - 1s - loss: 0.9802 - acc: 0.6914 - val_loss: 1.2877 - val_acc: 0.6614\n",
      "Epoch 16/40\n",
      "1134/1134 [==============================] - 1s - loss: 0.8907 - acc: 0.7266 - val_loss: 1.2150 - val_acc: 0.7087\n",
      "Epoch 17/40\n",
      "1134/1134 [==============================] - 1s - loss: 0.8270 - acc: 0.7257 - val_loss: 1.3543 - val_acc: 0.6457\n",
      "Epoch 18/40\n",
      "1134/1134 [==============================] - 1s - loss: 0.6997 - acc: 0.7769 - val_loss: 1.2338 - val_acc: 0.6929\n",
      "Epoch 19/40\n",
      "1134/1134 [==============================] - 1s - loss: 0.7002 - acc: 0.7813 - val_loss: 1.1861 - val_acc: 0.6929\n",
      "Epoch 20/40\n",
      "1134/1134 [==============================] - 1s - loss: 0.6073 - acc: 0.8086 - val_loss: 1.0978 - val_acc: 0.7323\n",
      "Epoch 21/40\n",
      "1134/1134 [==============================] - 1s - loss: 0.5893 - acc: 0.8122 - val_loss: 1.0708 - val_acc: 0.7323\n",
      "Epoch 22/40\n",
      "1134/1134 [==============================] - 1s - loss: 0.5335 - acc: 0.8298 - val_loss: 1.0278 - val_acc: 0.7244\n",
      "Epoch 23/40\n",
      "1134/1134 [==============================] - 1s - loss: 0.5061 - acc: 0.8395 - val_loss: 0.9625 - val_acc: 0.7559\n",
      "Epoch 24/40\n",
      "1134/1134 [==============================] - 1s - loss: 0.4600 - acc: 0.8571 - val_loss: 1.1033 - val_acc: 0.7402\n",
      "Epoch 25/40\n",
      "1134/1134 [==============================] - 1s - loss: 0.4344 - acc: 0.8563 - val_loss: 1.0654 - val_acc: 0.7402\n",
      "Epoch 26/40\n",
      "1134/1134 [==============================] - 1s - loss: 0.4326 - acc: 0.8563 - val_loss: 1.0089 - val_acc: 0.7402\n",
      "Epoch 27/40\n",
      "1134/1134 [==============================] - 1s - loss: 0.3939 - acc: 0.8765 - val_loss: 1.1151 - val_acc: 0.7402\n",
      "Epoch 28/40\n",
      "1134/1134 [==============================] - 1s - loss: 0.3667 - acc: 0.8951 - val_loss: 1.0740 - val_acc: 0.7480\n",
      "Epoch 29/40\n",
      "1134/1134 [==============================] - 1s - loss: 0.3538 - acc: 0.8907 - val_loss: 1.0019 - val_acc: 0.7480\n",
      "Epoch 30/40\n",
      "1134/1134 [==============================] - 1s - loss: 0.3506 - acc: 0.8889 - val_loss: 0.9485 - val_acc: 0.7559\n",
      "Epoch 31/40\n",
      "1134/1134 [==============================] - 1s - loss: 0.3034 - acc: 0.9109 - val_loss: 1.0283 - val_acc: 0.7795\n",
      "Epoch 32/40\n",
      "1134/1134 [==============================] - 1s - loss: 0.2796 - acc: 0.9039 - val_loss: 0.9356 - val_acc: 0.7795\n",
      "Epoch 33/40\n",
      "1134/1134 [==============================] - 1s - loss: 0.2572 - acc: 0.9242 - val_loss: 1.0028 - val_acc: 0.7717\n",
      "Epoch 34/40\n",
      "1134/1134 [==============================] - 1s - loss: 0.2794 - acc: 0.9127 - val_loss: 1.0969 - val_acc: 0.7795\n",
      "Epoch 35/40\n",
      "1134/1134 [==============================] - 1s - loss: 0.2423 - acc: 0.9189 - val_loss: 0.9742 - val_acc: 0.8031\n",
      "Epoch 36/40\n",
      "1134/1134 [==============================] - 1s - loss: 0.2227 - acc: 0.9303 - val_loss: 1.0238 - val_acc: 0.7953\n",
      "Epoch 37/40\n",
      "1134/1134 [==============================] - 1s - loss: 0.2747 - acc: 0.9153 - val_loss: 1.1392 - val_acc: 0.8189\n",
      "Epoch 38/40\n",
      "1134/1134 [==============================] - 1s - loss: 0.2558 - acc: 0.9242 - val_loss: 0.9836 - val_acc: 0.8031\n",
      "Epoch 39/40\n",
      "1134/1134 [==============================] - 1s - loss: 0.2182 - acc: 0.9339 - val_loss: 0.9507 - val_acc: 0.7874\n",
      "Epoch 40/40\n",
      "1134/1134 [==============================] - 1s - loss: 0.2062 - acc: 0.9347 - val_loss: 0.9251 - val_acc: 0.8268\n",
      "Saved model!\n"
     ]
    }
   ],
   "source": [
    "embedding_dim = 256\n",
    "model = Sequential()\n",
    "model.add(Embedding(vocab_size, embedding_dim,input_length = maxLength))\n",
    "# Each input would have a size of (maxLengthx256) and each of these 256 sized vectors are fed into the GRU layer one at a time.\n",
    "# All the intermediate outputs are collected and then passed on to the second GRU layer.\n",
    "model.add(GRU(256, dropout=0.9, return_sequences=True))\n",
    "# Using the intermediate outputs, we pass them to another GRU layer and collect the final output only this time\n",
    "model.add(GRU(256, dropout=0.9))\n",
    "# The output is then sent to a fully connected layer that would give us our final output_dim classes\n",
    "model.add(Dense(output_dimen, activation='softmax'))\n",
    "# We use the adam optimizer instead of standard SGD since it converges much faster\n",
    "tbCallBack = TensorBoard(log_dir='./Graph/medical_triage', histogram_freq=0,\n",
    "                            write_graph=True, write_images=True)\n",
    "model.compile(loss='categorical_crossentropy', optimizer='adam', metrics=['accuracy'])\n",
    "model.summary()\n",
    "model.fit(totalX, totalY, validation_split=0.1, batch_size=32, epochs=40, verbose=1, callbacks=[tbCallBack])\n",
    "model.save('./data/triage.HDF5')\n",
    "\n",
    "print(\"Saved model!\")"
   ]
  },
  {
   "cell_type": "markdown",
   "metadata": {},
   "source": [
    "### Below prediction code\n",
    "Function to load the meta data and the model we just trained."
   ]
  },
  {
   "cell_type": "code",
   "execution_count": 22,
   "metadata": {
    "collapsed": true
   },
   "outputs": [],
   "source": [
    "model = None\n",
    "target_reverse_word_index = None\n",
    "maxLength = 0\n",
    "def loadModel():\n",
    "    global model, target_reverse_word_index, maxLength\n",
    "    metaData = __loadStuff(\"./data/metaData_triage.p\")\n",
    "    maxLength = metaData.get(\"maxLength\")\n",
    "    vocab_size = metaData.get(\"vocab_size\")\n",
    "    output_dimen = metaData.get(\"output_dimen\")\n",
    "    target_reverse_word_index = metaData.get(\"target_reverse_word_index\")\n",
    "    embedding_dim = 256\n",
    "    if model is None:\n",
    "        model = Sequential()\n",
    "        model.add(Embedding(vocab_size, embedding_dim, input_length=maxLength))\n",
    "        # Each input would have a size of (maxLength x 256) and each of these 256 sized vectors are fed into the GRU layer one at a time.\n",
    "        # All the intermediate outputs are collected and then passed on to the second GRU layer.\n",
    "        model.add(GRU(256, dropout=0.9, return_sequences=True))\n",
    "        # Using the intermediate outputs, we pass them to another GRU layer and collect the final output only this time\n",
    "        model.add(GRU(256, dropout=0.9))\n",
    "        # The output is then sent to a fully connected layer that would give us our final output_dim classes\n",
    "        model.add(Dense(output_dimen, activation='softmax'))\n",
    "        # We use the adam optimizer instead of standard SGD since it converges much faster\n",
    "        model.compile(loss='categorical_crossentropy', optimizer='adam', metrics=['accuracy'])\n",
    "        model.load_weights('./data/triage.HDF5')\n",
    "        model.summary()\n",
    "    print(\"Model weights loaded!\")"
   ]
  },
  {
   "cell_type": "markdown",
   "metadata": {},
   "source": [
    "## Functions to convert input sentence to model input, and predict result"
   ]
  },
  {
   "cell_type": "code",
   "execution_count": 23,
   "metadata": {
    "collapsed": true
   },
   "outputs": [],
   "source": [
    "def findFeatures(text):\n",
    "    textArray = [text]\n",
    "    input_tokenizer = __loadStuff(\"./data/input_tokenizer.p\")\n",
    "    textArray = np.array(pad_sequences(input_tokenizer.texts_to_sequences(textArray), maxlen=maxLength))\n",
    "    return textArray\n",
    "def predictResult(text):\n",
    "    global model, target_reverse_word_index\n",
    "    if model is None:\n",
    "        print(\"Please run \\\"loadModel\\\" first.\")\n",
    "        return None\n",
    "    features = findFeatures(text)\n",
    "    predicted = model.predict(features)[0]\n",
    "    predicted = np.array(predicted)\n",
    "    probab = predicted.max()\n",
    "    predition = target_reverse_word_index[predicted.argmax()+1]\n",
    "    return predition, probab"
   ]
  },
  {
   "cell_type": "code",
   "execution_count": 24,
   "metadata": {},
   "outputs": [
    {
     "name": "stdout",
     "output_type": "stream",
     "text": [
      "_________________________________________________________________\n",
      "Layer (type)                 Output Shape              Param #   \n",
      "=================================================================\n",
      "embedding_2 (Embedding)      (None, 18, 256)           232960    \n",
      "_________________________________________________________________\n",
      "gru_3 (GRU)                  (None, 18, 256)           393984    \n",
      "_________________________________________________________________\n",
      "gru_4 (GRU)                  (None, 256)               393984    \n",
      "_________________________________________________________________\n",
      "dense_2 (Dense)              (None, 19)                4883      \n",
      "=================================================================\n",
      "Total params: 1,025,811\n",
      "Trainable params: 1,025,811\n",
      "Non-trainable params: 0\n",
      "_________________________________________________________________\n",
      "Model weights loaded!\n"
     ]
    }
   ],
   "source": [
    "loadModel()"
   ]
  },
  {
   "cell_type": "code",
   "execution_count": 25,
   "metadata": {},
   "outputs": [
    {
     "data": {
      "text/plain": [
       "('dermatology', 0.99984169)"
      ]
     },
     "execution_count": 25,
     "metadata": {},
     "output_type": "execute_result"
    }
   ],
   "source": [
    "predictResult(\"Skin is quite itchy.\")"
   ]
  },
  {
   "cell_type": "code",
   "execution_count": 26,
   "metadata": {},
   "outputs": [
    {
     "data": {
      "text/plain": [
       "('mouthface', 0.99998295)"
      ]
     },
     "execution_count": 26,
     "metadata": {},
     "output_type": "execute_result"
    }
   ],
   "source": [
    "predictResult(\"Sore throat fever fatigue.\")"
   ]
  },
  {
   "cell_type": "code",
   "execution_count": 27,
   "metadata": {},
   "outputs": [
    {
     "data": {
      "text/plain": [
       "('back', 0.99996912)"
      ]
     },
     "execution_count": 27,
     "metadata": {},
     "output_type": "execute_result"
    }
   ],
   "source": [
    "predictResult(\"Lower back hurt, so painful.\")"
   ]
  },
  {
   "cell_type": "code",
   "execution_count": 28,
   "metadata": {},
   "outputs": [
    {
     "data": {
      "text/plain": [
       "('sexualhealth', 0.99975973)"
      ]
     },
     "execution_count": 28,
     "metadata": {},
     "output_type": "execute_result"
    }
   ],
   "source": [
    "predictResult(\"Very painful with period.\")"
   ]
  },
  {
   "cell_type": "code",
   "execution_count": 29,
   "metadata": {},
   "outputs": [
    {
     "data": {
      "text/plain": [
       "('abdomen', 0.99999285)"
      ]
     },
     "execution_count": 29,
     "metadata": {},
     "output_type": "execute_result"
    }
   ],
   "source": [
    "predictResult(\"Sudden abdominal pain.\")"
   ]
  },
  {
   "cell_type": "code",
   "execution_count": null,
   "metadata": {
    "collapsed": true
   },
   "outputs": [],
   "source": []
  }
 ],
 "metadata": {
  "kernelspec": {
   "display_name": "Python 3",
   "language": "python",
   "name": "python3"
  },
  "language_info": {
   "codemirror_mode": {
    "name": "ipython",
    "version": 3
   },
   "file_extension": ".py",
   "mimetype": "text/x-python",
   "name": "python",
   "nbconvert_exporter": "python",
   "pygments_lexer": "ipython3",
   "version": "3.5.2"
  }
 },
 "nbformat": 4,
 "nbformat_minor": 1
}
